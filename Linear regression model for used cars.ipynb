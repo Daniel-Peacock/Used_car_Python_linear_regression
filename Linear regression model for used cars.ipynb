{
 "cells": [
  {
   "cell_type": "code",
   "execution_count": 2,
   "id": "282fe61e",
   "metadata": {},
   "outputs": [],
   "source": [
    "import numpy as np #Linear algebra\n",
    "import pandas as pd #allows data manipulations and matrices"
   ]
  },
  {
   "cell_type": "code",
   "execution_count": 3,
   "id": "0c5b4174",
   "metadata": {},
   "outputs": [
    {
     "name": "stdout",
     "output_type": "stream",
     "text": [
      "Requirement already satisfied: openpyxl in c:\\users\\danie\\anaconda3\\lib\\site-packages (3.0.9)\n",
      "Requirement already satisfied: et-xmlfile in c:\\users\\danie\\anaconda3\\lib\\site-packages (from openpyxl) (1.1.0)\n",
      "Note: you may need to restart the kernel to use updated packages.\n"
     ]
    }
   ],
   "source": [
    "pip install openpyxl"
   ]
  },
  {
   "cell_type": "code",
   "execution_count": 7,
   "id": "c9aed3e0",
   "metadata": {},
   "outputs": [
    {
     "name": "stdout",
     "output_type": "stream",
     "text": [
      "             uid        asin  \\\n",
      "0              1  B014TMV5YE   \n",
      "1              2  B07GDLCQXV   \n",
      "2              3  B07XSCCZYG   \n",
      "3              4  B08MVFKGJM   \n",
      "4              5  B01DJLKZBA   \n",
      "...          ...         ...   \n",
      "1735409  2243231  B098BQ7ZQ3   \n",
      "1735410  2243232  B07X1MVNT1   \n",
      "1735411  2243233  B08XLBG8V9   \n",
      "1735412  2243234  B07GH67QC8   \n",
      "1735413  2243235  B0CDPHZDYB   \n",
      "\n",
      "                                                     title  stars  reviews  \\\n",
      "0        Sion Softside Expandable Roller Luggage, Black...    4.5        0   \n",
      "1        Luggage Sets Expandable PC+ABS Durable Suitcas...    4.5        0   \n",
      "2        Platinum Elite Softside Expandable Checked Lug...    4.6        0   \n",
      "3        Freeform Hardside Expandable with Double Spinn...    4.6        0   \n",
      "4        Winfield 2 Hardside Expandable Luggage with Sp...    4.5        0   \n",
      "...                                                    ...    ...      ...   \n",
      "1735409  Men's Baseball Cap - H2O-DRI Line Up Curved Br...    4.4        0   \n",
      "1735410  [4 Pack] Adjustable Eyeglasses and Sunglasses ...    3.6        0   \n",
      "1735411                          Ax2002 Aviator Sunglasses    4.5        0   \n",
      "1735412  in Hoc Signo Vinces Knights Templar Masonic Em...    4.9        0   \n",
      "1735413  12 Pieces Sailor Scarf Red White and Blue Flig...    0.0        0   \n",
      "\n",
      "          price           category  isBestSeller  boughtInLastMonth  \n",
      "0        139.99          Suitcases         False               2000  \n",
      "1        169.99          Suitcases         False               1000  \n",
      "2        365.49          Suitcases         False                300  \n",
      "3        291.59          Suitcases         False                400  \n",
      "4        174.99          Suitcases         False                400  \n",
      "...         ...                ...           ...                ...  \n",
      "1735409   33.99  Men's Accessories         False                  0  \n",
      "1735410    8.54  Men's Accessories         False                  0  \n",
      "1735411   54.36  Men's Accessories         False                  0  \n",
      "1735412   18.79  Men's Accessories         False                  0  \n",
      "1735413   14.99  Men's Accessories         False                  0  \n",
      "\n",
      "[1735414 rows x 9 columns]\n"
     ]
    }
   ],
   "source": [
    "df = pd.read_csv(r\"C:\\Documents\\Data analysis\\USA Optimal price predicition\\archive (1)\\amz_us_price_prediction_dataset.csv\")\n",
    "print(df)\n"
   ]
  },
  {
   "cell_type": "code",
   "execution_count": 9,
   "id": "abcba442",
   "metadata": {},
   "outputs": [
    {
     "name": "stdout",
     "output_type": "stream",
     "text": [
      "<class 'pandas.core.frame.DataFrame'>\n",
      "RangeIndex: 1735414 entries, 0 to 1735413\n",
      "Data columns (total 9 columns):\n",
      " #   Column             Dtype  \n",
      "---  ------             -----  \n",
      " 0   uid                int64  \n",
      " 1   asin               object \n",
      " 2   title              object \n",
      " 3   stars              float64\n",
      " 4   reviews            int64  \n",
      " 5   price              float64\n",
      " 6   category           object \n",
      " 7   isBestSeller       bool   \n",
      " 8   boughtInLastMonth  int64  \n",
      "dtypes: bool(1), float64(2), int64(3), object(3)\n",
      "memory usage: 107.6+ MB\n"
     ]
    }
   ],
   "source": [
    "df.info()\n"
   ]
  },
  {
   "cell_type": "code",
   "execution_count": 10,
   "id": "c6545242",
   "metadata": {},
   "outputs": [
    {
     "data": {
      "text/plain": [
       "'C:\\\\Users\\\\Danie\\\\Documents'"
      ]
     },
     "execution_count": 10,
     "metadata": {},
     "output_type": "execute_result"
    }
   ],
   "source": [
    "pwd"
   ]
  },
  {
   "cell_type": "code",
   "execution_count": 12,
   "id": "96bd9d1d",
   "metadata": {},
   "outputs": [
    {
     "data": {
      "text/plain": [
       "Index(['uid', 'asin', 'title', 'stars', 'reviews', 'price', 'category',\n",
       "       'isBestSeller', 'boughtInLastMonth'],\n",
       "      dtype='object')"
      ]
     },
     "execution_count": 12,
     "metadata": {},
     "output_type": "execute_result"
    }
   ],
   "source": [
    "df.columns\n"
   ]
  },
  {
   "cell_type": "code",
   "execution_count": 13,
   "id": "7c2c83d7",
   "metadata": {},
   "outputs": [
    {
     "data": {
      "text/plain": [
       "RangeIndex(start=0, stop=1735414, step=1)"
      ]
     },
     "execution_count": 13,
     "metadata": {},
     "output_type": "execute_result"
    }
   ],
   "source": [
    "df.index\n"
   ]
  },
  {
   "cell_type": "code",
   "execution_count": 14,
   "id": "27316047",
   "metadata": {},
   "outputs": [
    {
     "name": "stdout",
     "output_type": "stream",
     "text": [
      "<class 'pandas.core.frame.DataFrame'>\n",
      "RangeIndex: 1735414 entries, 0 to 1735413\n",
      "Data columns (total 9 columns):\n",
      " #   Column             Dtype  \n",
      "---  ------             -----  \n",
      " 0   uid                int64  \n",
      " 1   asin               object \n",
      " 2   title              object \n",
      " 3   stars              float64\n",
      " 4   reviews            int64  \n",
      " 5   price              float64\n",
      " 6   category           object \n",
      " 7   isBestSeller       bool   \n",
      " 8   boughtInLastMonth  int64  \n",
      "dtypes: bool(1), float64(2), int64(3), object(3)\n",
      "memory usage: 107.6+ MB\n"
     ]
    }
   ],
   "source": [
    "df.info()\n"
   ]
  },
  {
   "cell_type": "code",
   "execution_count": 16,
   "id": "b7e87973",
   "metadata": {},
   "outputs": [
    {
     "data": {
      "text/html": [
       "<div>\n",
       "<style scoped>\n",
       "    .dataframe tbody tr th:only-of-type {\n",
       "        vertical-align: middle;\n",
       "    }\n",
       "\n",
       "    .dataframe tbody tr th {\n",
       "        vertical-align: top;\n",
       "    }\n",
       "\n",
       "    .dataframe thead th {\n",
       "        text-align: right;\n",
       "    }\n",
       "</style>\n",
       "<table border=\"1\" class=\"dataframe\">\n",
       "  <thead>\n",
       "    <tr style=\"text-align: right;\">\n",
       "      <th></th>\n",
       "      <th>count</th>\n",
       "      <th>mean</th>\n",
       "      <th>std</th>\n",
       "      <th>min</th>\n",
       "      <th>25%</th>\n",
       "      <th>50%</th>\n",
       "      <th>75%</th>\n",
       "      <th>max</th>\n",
       "    </tr>\n",
       "  </thead>\n",
       "  <tbody>\n",
       "    <tr>\n",
       "      <th>uid</th>\n",
       "      <td>1735414.0</td>\n",
       "      <td>1.113750e+06</td>\n",
       "      <td>635129.008268</td>\n",
       "      <td>1.0</td>\n",
       "      <td>594702.25</td>\n",
       "      <td>1091739.50</td>\n",
       "      <td>1651765.75</td>\n",
       "      <td>2243235.00</td>\n",
       "    </tr>\n",
       "    <tr>\n",
       "      <th>stars</th>\n",
       "      <td>1735414.0</td>\n",
       "      <td>4.054889e+00</td>\n",
       "      <td>1.278032</td>\n",
       "      <td>0.0</td>\n",
       "      <td>4.20</td>\n",
       "      <td>4.50</td>\n",
       "      <td>4.70</td>\n",
       "      <td>5.00</td>\n",
       "    </tr>\n",
       "    <tr>\n",
       "      <th>reviews</th>\n",
       "      <td>1735414.0</td>\n",
       "      <td>1.772809e+02</td>\n",
       "      <td>1774.467189</td>\n",
       "      <td>0.0</td>\n",
       "      <td>0.00</td>\n",
       "      <td>0.00</td>\n",
       "      <td>0.00</td>\n",
       "      <td>346563.00</td>\n",
       "    </tr>\n",
       "    <tr>\n",
       "      <th>price</th>\n",
       "      <td>1735414.0</td>\n",
       "      <td>4.220253e+01</td>\n",
       "      <td>124.982160</td>\n",
       "      <td>0.0</td>\n",
       "      <td>11.99</td>\n",
       "      <td>19.89</td>\n",
       "      <td>35.00</td>\n",
       "      <td>19731.81</td>\n",
       "    </tr>\n",
       "    <tr>\n",
       "      <th>boughtInLastMonth</th>\n",
       "      <td>1735414.0</td>\n",
       "      <td>1.907960e+02</td>\n",
       "      <td>995.244518</td>\n",
       "      <td>0.0</td>\n",
       "      <td>0.00</td>\n",
       "      <td>0.00</td>\n",
       "      <td>100.00</td>\n",
       "      <td>100000.00</td>\n",
       "    </tr>\n",
       "  </tbody>\n",
       "</table>\n",
       "</div>"
      ],
      "text/plain": [
       "                       count          mean            std  min        25%  \\\n",
       "uid                1735414.0  1.113750e+06  635129.008268  1.0  594702.25   \n",
       "stars              1735414.0  4.054889e+00       1.278032  0.0       4.20   \n",
       "reviews            1735414.0  1.772809e+02    1774.467189  0.0       0.00   \n",
       "price              1735414.0  4.220253e+01     124.982160  0.0      11.99   \n",
       "boughtInLastMonth  1735414.0  1.907960e+02     995.244518  0.0       0.00   \n",
       "\n",
       "                          50%         75%         max  \n",
       "uid                1091739.50  1651765.75  2243235.00  \n",
       "stars                    4.50        4.70        5.00  \n",
       "reviews                  0.00        0.00   346563.00  \n",
       "price                   19.89       35.00    19731.81  \n",
       "boughtInLastMonth        0.00      100.00   100000.00  "
      ]
     },
     "execution_count": 16,
     "metadata": {},
     "output_type": "execute_result"
    }
   ],
   "source": [
    "df.describe().transpose()\n"
   ]
  },
  {
   "cell_type": "code",
   "execution_count": 18,
   "id": "17b7796e",
   "metadata": {},
   "outputs": [
    {
     "data": {
      "text/plain": [
       "0          4.5\n",
       "1          4.5\n",
       "2          4.6\n",
       "3          4.6\n",
       "4          4.5\n",
       "          ... \n",
       "1735409    4.4\n",
       "1735410    3.6\n",
       "1735411    4.5\n",
       "1735412    4.9\n",
       "1735413    0.0\n",
       "Name: stars, Length: 1735414, dtype: float64"
      ]
     },
     "execution_count": 18,
     "metadata": {},
     "output_type": "execute_result"
    }
   ],
   "source": [
    "df['stars']"
   ]
  },
  {
   "cell_type": "code",
   "execution_count": null,
   "id": "c16cbdc2",
   "metadata": {},
   "outputs": [],
   "source": []
  }
 ],
 "metadata": {
  "kernelspec": {
   "display_name": "Python 3 (ipykernel)",
   "language": "python",
   "name": "python3"
  },
  "language_info": {
   "codemirror_mode": {
    "name": "ipython",
    "version": 3
   },
   "file_extension": ".py",
   "mimetype": "text/x-python",
   "name": "python",
   "nbconvert_exporter": "python",
   "pygments_lexer": "ipython3",
   "version": "3.9.12"
  }
 },
 "nbformat": 4,
 "nbformat_minor": 5
}
